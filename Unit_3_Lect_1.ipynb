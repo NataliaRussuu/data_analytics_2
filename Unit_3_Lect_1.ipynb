{
  "nbformat": 4,
  "nbformat_minor": 0,
  "metadata": {
    "colab": {
      "name": "Copy of Unit 3 Lect 1.ipynb",
      "provenance": [],
      "include_colab_link": true
    },
    "kernelspec": {
      "name": "python3",
      "display_name": "Python 3"
    }
  },
  "cells": [
    {
      "cell_type": "markdown",
      "metadata": {
        "id": "view-in-github",
        "colab_type": "text"
      },
      "source": [
        "<a href=\"https://colab.research.google.com/github/NataliaRussuu/data_analytics_2/blob/main/Unit_3_Lect_1.ipynb\" target=\"_parent\"><img src=\"https://colab.research.google.com/assets/colab-badge.svg\" alt=\"Open In Colab\"/></a>"
      ]
    },
    {
      "cell_type": "code",
      "metadata": {
        "id": "z7z6BNam6xpY"
      },
      "source": [
        "# Unit3.Lecture 1"
      ],
      "execution_count": null,
      "outputs": []
    },
    {
      "cell_type": "code",
      "metadata": {
        "colab": {
          "base_uri": "https://localhost:8080/"
        },
        "id": "mtAG8JEBa59F",
        "outputId": "f53a2ec8-3d71-4edc-a24a-2c27360c0a19"
      },
      "source": [
        "import numpy as np\n",
        "a = np.array([1,2,3,9], dtype='int32')\n",
        "print(a)"
      ],
      "execution_count": null,
      "outputs": [
        {
          "output_type": "stream",
          "text": [
            "[1 2 3 9]\n"
          ],
          "name": "stdout"
        }
      ]
    },
    {
      "cell_type": "code",
      "metadata": {
        "colab": {
          "base_uri": "https://localhost:8080/"
        },
        "id": "1sFIKpL9bZXT",
        "outputId": "a1e99390-7043-4b67-cc51-d6c2c2f413ca"
      },
      "source": [
        "import numpy as np\n",
        "b = np.array([[9.0,8.0,7.0],[6.0,5.0,4.0]])\n",
        "print(b)\n",
        "print(b.size)\n",
        "\n",
        "print(b.shape)"
      ],
      "execution_count": null,
      "outputs": [
        {
          "output_type": "stream",
          "text": [
            "[[9. 8. 7.]\n",
            " [6. 5. 4.]]\n",
            "6\n",
            "(2, 3)\n"
          ],
          "name": "stdout"
        }
      ]
    },
    {
      "cell_type": "code",
      "metadata": {
        "colab": {
          "base_uri": "https://localhost:8080/"
        },
        "id": "rH0kYi9ehiGC",
        "outputId": "356796ff-4113-4966-eb4d-bd06e6f71a8c"
      },
      "source": [
        "b.ndim"
      ],
      "execution_count": null,
      "outputs": [
        {
          "output_type": "execute_result",
          "data": {
            "text/plain": [
              "2"
            ]
          },
          "metadata": {
            "tags": []
          },
          "execution_count": 7
        }
      ]
    },
    {
      "cell_type": "code",
      "metadata": {
        "colab": {
          "base_uri": "https://localhost:8080/"
        },
        "id": "TUCFC3aEbbrz",
        "outputId": "7385a303-2df6-49d3-a1f0-d1c9fd9f3652"
      },
      "source": [
        "# Get Dimension\n",
        "a.ndim"
      ],
      "execution_count": null,
      "outputs": [
        {
          "output_type": "execute_result",
          "data": {
            "text/plain": [
              "1"
            ]
          },
          "metadata": {
            "tags": []
          },
          "execution_count": 52
        }
      ]
    },
    {
      "cell_type": "code",
      "metadata": {
        "colab": {
          "base_uri": "https://localhost:8080/"
        },
        "id": "28UwKk_eh-IY",
        "outputId": "04059ddd-4cf2-4ae8-f5bc-ba69f682e71f"
      },
      "source": [
        "a.shape"
      ],
      "execution_count": null,
      "outputs": [
        {
          "output_type": "execute_result",
          "data": {
            "text/plain": [
              "(4,)"
            ]
          },
          "metadata": {
            "tags": []
          },
          "execution_count": 9
        }
      ]
    },
    {
      "cell_type": "code",
      "metadata": {
        "colab": {
          "base_uri": "https://localhost:8080/"
        },
        "id": "M6D-xq5bbnzR",
        "outputId": "0c4928b8-6599-4fb1-83e3-a530a9d75641"
      },
      "source": [
        " #Get Type\n",
        "a.dtype"
      ],
      "execution_count": null,
      "outputs": [
        {
          "output_type": "execute_result",
          "data": {
            "text/plain": [
              "dtype('int32')"
            ]
          },
          "metadata": {
            "tags": []
          },
          "execution_count": 10
        }
      ]
    },
    {
      "cell_type": "code",
      "metadata": {
        "colab": {
          "base_uri": "https://localhost:8080/"
        },
        "id": "jB8RkbRFbvrp",
        "outputId": "d6fc6888-1628-4ec2-978e-bee5e821467d"
      },
      "source": [
        "# Get Size\n",
        "a.itemsize"
      ],
      "execution_count": null,
      "outputs": [
        {
          "output_type": "execute_result",
          "data": {
            "text/plain": [
              "4"
            ]
          },
          "metadata": {
            "tags": []
          },
          "execution_count": 11
        }
      ]
    },
    {
      "cell_type": "code",
      "metadata": {
        "colab": {
          "base_uri": "https://localhost:8080/"
        },
        "id": "t2UyNZ3sb5bm",
        "outputId": "479978b1-7cd1-4360-866c-5674cbe67fb0"
      },
      "source": [
        " #Get number of elements\n",
        "a.size"
      ],
      "execution_count": null,
      "outputs": [
        {
          "output_type": "execute_result",
          "data": {
            "text/plain": [
              "4"
            ]
          },
          "metadata": {
            "tags": []
          },
          "execution_count": 12
        }
      ]
    },
    {
      "cell_type": "code",
      "metadata": {
        "colab": {
          "base_uri": "https://localhost:8080/"
        },
        "id": "c2iKylDEH9s0",
        "outputId": "25a39065-0536-448f-a767-70cff20f35bc"
      },
      "source": [
        "import numpy as np\n",
        "c= np.array([13.1,2,3,9])\n",
        "print(c)\n",
        "#c.itemsize\n",
        "c.size"
      ],
      "execution_count": null,
      "outputs": [
        {
          "output_type": "stream",
          "text": [
            "[13.1  2.   3.   9. ]\n"
          ],
          "name": "stdout"
        },
        {
          "output_type": "execute_result",
          "data": {
            "text/plain": [
              "4"
            ]
          },
          "metadata": {
            "tags": []
          },
          "execution_count": 13
        }
      ]
    },
    {
      "cell_type": "code",
      "metadata": {
        "colab": {
          "base_uri": "https://localhost:8080/"
        },
        "id": "BhPdkRZsnPtQ",
        "outputId": "271b7406-54d0-4bdc-ab8b-c81972119049"
      },
      "source": [
        "cars= np.array(['dodge','jeep','bmw'], dtype=str)\n",
        "print(cars)"
      ],
      "execution_count": null,
      "outputs": [
        {
          "output_type": "stream",
          "text": [
            "['dodge' 'jeep' 'bmw']\n"
          ],
          "name": "stdout"
        }
      ]
    },
    {
      "cell_type": "code",
      "metadata": {
        "colab": {
          "base_uri": "https://localhost:8080/"
        },
        "id": "Xb8eEdvIoHp1",
        "outputId": "0224ddb1-f01c-4997-ad62-ddbed1e96330"
      },
      "source": [
        "cars.shape"
      ],
      "execution_count": null,
      "outputs": [
        {
          "output_type": "execute_result",
          "data": {
            "text/plain": [
              "(3,)"
            ]
          },
          "metadata": {
            "tags": []
          },
          "execution_count": 15
        }
      ]
    },
    {
      "cell_type": "code",
      "metadata": {
        "colab": {
          "base_uri": "https://localhost:8080/"
        },
        "id": "6-buaUt6otng",
        "outputId": "3add9c3a-d5f8-4c29-aadd-431db4ebc03b"
      },
      "source": [
        "cars.size"
      ],
      "execution_count": null,
      "outputs": [
        {
          "output_type": "execute_result",
          "data": {
            "text/plain": [
              "3"
            ]
          },
          "metadata": {
            "tags": []
          },
          "execution_count": 16
        }
      ]
    },
    {
      "cell_type": "code",
      "metadata": {
        "colab": {
          "base_uri": "https://localhost:8080/"
        },
        "id": "TVAei9cCox9w",
        "outputId": "4851b3f6-2805-40d5-f88f-00300eca5c44"
      },
      "source": [
        "cars.ndim"
      ],
      "execution_count": null,
      "outputs": [
        {
          "output_type": "execute_result",
          "data": {
            "text/plain": [
              "1"
            ]
          },
          "metadata": {
            "tags": []
          },
          "execution_count": 17
        }
      ]
    },
    {
      "cell_type": "code",
      "metadata": {
        "colab": {
          "base_uri": "https://localhost:8080/"
        },
        "id": "lT8wQOUXo_rV",
        "outputId": "87d372db-5f68-4a88-ae5a-4ea8d05f5eab"
      },
      "source": [
        "cars.itemsize"
      ],
      "execution_count": null,
      "outputs": [
        {
          "output_type": "execute_result",
          "data": {
            "text/plain": [
              "20"
            ]
          },
          "metadata": {
            "tags": []
          },
          "execution_count": 18
        }
      ]
    },
    {
      "cell_type": "code",
      "metadata": {
        "colab": {
          "base_uri": "https://localhost:8080/"
        },
        "id": "eDbUNXuHpPE5",
        "outputId": "9fc28574-606f-4df1-a432-2a3a01342db3"
      },
      "source": [
        "cars.dtype"
      ],
      "execution_count": null,
      "outputs": [
        {
          "output_type": "execute_result",
          "data": {
            "text/plain": [
              "dtype('<U5')"
            ]
          },
          "metadata": {
            "tags": []
          },
          "execution_count": 53
        }
      ]
    },
    {
      "cell_type": "markdown",
      "metadata": {
        "id": "I3f31ydwcFPJ"
      },
      "source": [
        "\n",
        "Accessing/Changing specific elements, rows, columns, etc"
      ]
    },
    {
      "cell_type": "code",
      "metadata": {
        "colab": {
          "base_uri": "https://localhost:8080/"
        },
        "id": "wllcZwX8b-3R",
        "outputId": "4dde1cad-414b-4fcc-898f-0919fb48c1d8"
      },
      "source": [
        "a = np.array([[1,2,3,4,5,6,7],[8,9,10,11,12,13,14]])\n",
        "print(a)"
      ],
      "execution_count": null,
      "outputs": [
        {
          "output_type": "stream",
          "text": [
            "[[ 1  2  3  4  5  6  7]\n",
            " [ 8  9 10 11 12 13 14]]\n"
          ],
          "name": "stdout"
        }
      ]
    },
    {
      "cell_type": "code",
      "metadata": {
        "colab": {
          "base_uri": "https://localhost:8080/"
        },
        "id": "CbSlBPqjcHYx",
        "outputId": "29e5b0a4-682f-4474-b2da-1b5e4bd8f987"
      },
      "source": [
        "a = np.array([[1,2,3,4,5,6,7],[8,9,10,11,12,13,14]])\n",
        "print(a[1,0],a[1,2])\n"
      ],
      "execution_count": null,
      "outputs": [
        {
          "output_type": "stream",
          "text": [
            "8 10\n"
          ],
          "name": "stdout"
        }
      ]
    },
    {
      "cell_type": "code",
      "metadata": {
        "colab": {
          "base_uri": "https://localhost:8080/"
        },
        "id": "N4KJ8LJBcNZO",
        "outputId": "590e7680-4a6b-4c7f-c200-7783958f7970"
      },
      "source": [
        "# Get a specific element [r, c]\n",
        "a[1, 5]"
      ],
      "execution_count": null,
      "outputs": [
        {
          "output_type": "execute_result",
          "data": {
            "text/plain": [
              "13"
            ]
          },
          "metadata": {
            "tags": []
          },
          "execution_count": 22
        }
      ]
    },
    {
      "cell_type": "code",
      "metadata": {
        "colab": {
          "base_uri": "https://localhost:8080/"
        },
        "id": "VXVAOESYcSm2",
        "outputId": "b9b31912-7f5e-47f4-acca-073ddcd620f2"
      },
      "source": [
        "# Get a specific row \n",
        "a[0, :]"
      ],
      "execution_count": null,
      "outputs": [
        {
          "output_type": "execute_result",
          "data": {
            "text/plain": [
              "array([1, 2, 3, 4, 5, 6, 7])"
            ]
          },
          "metadata": {
            "tags": []
          },
          "execution_count": 23
        }
      ]
    },
    {
      "cell_type": "code",
      "metadata": {
        "colab": {
          "base_uri": "https://localhost:8080/"
        },
        "id": "g_7Raay9cW25",
        "outputId": "29b21858-4cc7-4ce2-bec7-4eca661a065b"
      },
      "source": [
        "# Get a specific column\n",
        "a[:, 2]"
      ],
      "execution_count": null,
      "outputs": [
        {
          "output_type": "execute_result",
          "data": {
            "text/plain": [
              "array([ 3, 10])"
            ]
          },
          "metadata": {
            "tags": []
          },
          "execution_count": 24
        }
      ]
    },
    {
      "cell_type": "markdown",
      "metadata": {
        "id": "VUP_fEqccz0V"
      },
      "source": [
        "Initializing Different Types of Arrays"
      ]
    },
    {
      "cell_type": "code",
      "metadata": {
        "colab": {
          "base_uri": "https://localhost:8080/"
        },
        "id": "vCmn8v4HczWl",
        "outputId": "3111d57a-2b09-4138-ebd5-ef36aa0dd757"
      },
      "source": [
        "# All 0s matrix\n",
        "np.zeros((2,3))"
      ],
      "execution_count": null,
      "outputs": [
        {
          "output_type": "execute_result",
          "data": {
            "text/plain": [
              "array([[0., 0., 0.],\n",
              "       [0., 0., 0.]])"
            ]
          },
          "metadata": {
            "tags": []
          },
          "execution_count": 25
        }
      ]
    },
    {
      "cell_type": "code",
      "metadata": {
        "colab": {
          "base_uri": "https://localhost:8080/"
        },
        "id": "LTWWSxLLc5Z3",
        "outputId": "156b2c19-ae36-4a56-807a-bbabc667445b"
      },
      "source": [
        "# All 1s matrix\n",
        "d=np.ones((4,2), dtype='int32')\n",
        "d"
      ],
      "execution_count": null,
      "outputs": [
        {
          "output_type": "execute_result",
          "data": {
            "text/plain": [
              "array([[1, 1],\n",
              "       [1, 1],\n",
              "       [1, 1],\n",
              "       [1, 1]], dtype=int32)"
            ]
          },
          "metadata": {
            "tags": []
          },
          "execution_count": 26
        }
      ]
    },
    {
      "cell_type": "markdown",
      "metadata": {
        "id": "UcMwYIYxdoiJ"
      },
      "source": [
        "Mathematics/can perform basic +,-,/,* and advanced operations"
      ]
    },
    {
      "cell_type": "code",
      "metadata": {
        "colab": {
          "base_uri": "https://localhost:8080/"
        },
        "id": "t4B0McdmdI8x",
        "outputId": "614a51e1-de1c-4ba2-91f0-a84ace774121"
      },
      "source": [
        "a = np.array([1,2,3,4])\n",
        "print(a)"
      ],
      "execution_count": null,
      "outputs": [
        {
          "output_type": "stream",
          "text": [
            "[1 2 3 4]\n"
          ],
          "name": "stdout"
        }
      ]
    },
    {
      "cell_type": "code",
      "metadata": {
        "colab": {
          "base_uri": "https://localhost:8080/"
        },
        "id": "ifRN0yK8dOeO",
        "outputId": "fadf1bae-8530-4682-8e9d-41928058c9b1"
      },
      "source": [
        "a + 2"
      ],
      "execution_count": null,
      "outputs": [
        {
          "output_type": "execute_result",
          "data": {
            "text/plain": [
              "array([3, 4, 5, 6])"
            ]
          },
          "metadata": {
            "tags": []
          },
          "execution_count": 28
        }
      ]
    },
    {
      "cell_type": "code",
      "metadata": {
        "colab": {
          "base_uri": "https://localhost:8080/"
        },
        "id": "n-rc6vFmdP8m",
        "outputId": "96d673ed-ffcc-4890-c610-22c7306017d0"
      },
      "source": [
        "a * 2"
      ],
      "execution_count": null,
      "outputs": [
        {
          "output_type": "execute_result",
          "data": {
            "text/plain": [
              "array([2, 4, 6, 8])"
            ]
          },
          "metadata": {
            "tags": []
          },
          "execution_count": 29
        }
      ]
    },
    {
      "cell_type": "code",
      "metadata": {
        "colab": {
          "base_uri": "https://localhost:8080/"
        },
        "id": "aEMQloWmdq3m",
        "outputId": "c1d87b2b-0475-4474-e0fb-0eb9a00debcc"
      },
      "source": [
        "# adding two arrays ,is adding each element by element/They have to be the same size\n",
        "a = np.array([1,2,3,4])\n",
        "b = np.array([1,0,1,0])\n",
        "a + b"
      ],
      "execution_count": null,
      "outputs": [
        {
          "output_type": "execute_result",
          "data": {
            "text/plain": [
              "array([2, 2, 4, 4])"
            ]
          },
          "metadata": {
            "tags": []
          },
          "execution_count": 30
        }
      ]
    },
    {
      "cell_type": "markdown",
      "metadata": {
        "id": "LwHMZHPev1th"
      },
      "source": [
        "Accessing Elements of Array "
      ]
    },
    {
      "cell_type": "code",
      "metadata": {
        "colab": {
          "base_uri": "https://localhost:8080/"
        },
        "id": "jCSUFI03v62y",
        "outputId": "dcbedf5d-1d2e-4b40-c0cc-edbe3b5f0b87"
      },
      "source": [
        "a = np.array([17,2,3,4])\n",
        "print(a[0])\n",
        "a[3]"
      ],
      "execution_count": null,
      "outputs": [
        {
          "output_type": "stream",
          "text": [
            "17\n"
          ],
          "name": "stdout"
        },
        {
          "output_type": "execute_result",
          "data": {
            "text/plain": [
              "4"
            ]
          },
          "metadata": {
            "tags": []
          },
          "execution_count": 31
        }
      ]
    },
    {
      "cell_type": "code",
      "metadata": {
        "colab": {
          "base_uri": "https://localhost:8080/"
        },
        "id": "c0J4lFyiv1Vz",
        "outputId": "863b9d65-2c58-4f3e-cd4d-fa2f57331de8"
      },
      "source": [
        "w=np.array([[1,2,3,4,5,6,7],[8,9,10,11,12,13,14]])\n",
        "print(w)\n",
        "print(w[0,0])\n",
        "print(w[1,3])"
      ],
      "execution_count": null,
      "outputs": [
        {
          "output_type": "stream",
          "text": [
            "[[ 1  2  3  4  5  6  7]\n",
            " [ 8  9 10 11 12 13 14]]\n",
            "1\n",
            "11\n"
          ],
          "name": "stdout"
        }
      ]
    },
    {
      "cell_type": "code",
      "metadata": {
        "colab": {
          "base_uri": "https://localhost:8080/"
        },
        "id": "tzwXsBEP0hmo",
        "outputId": "f0d41008-896d-4959-fde8-28f24f7cc532"
      },
      "source": [
        "import numpy as np\n",
        "arr = np.array([1, 2, 3, 4])\n",
        "print(arr[2] + arr[3])"
      ],
      "execution_count": null,
      "outputs": [
        {
          "output_type": "stream",
          "text": [
            "7\n"
          ],
          "name": "stdout"
        }
      ]
    },
    {
      "cell_type": "markdown",
      "metadata": {
        "id": "U_3C2Qv90JMk"
      },
      "source": [
        "*******Finding value greater or less < x >  in Array********** Assignment "
      ]
    },
    {
      "cell_type": "markdown",
      "metadata": {
        "id": "hvA5x_5KUFQc"
      },
      "source": [
        ""
      ]
    },
    {
      "cell_type": "code",
      "metadata": {
        "colab": {
          "base_uri": "https://localhost:8080/"
        },
        "id": "BtR6DlYv1ion",
        "outputId": "6f1d7975-2852-4be7-8c16-ce60a3d970b6"
      },
      "source": [
        "import numpy as np\n",
        "studentscore = np.array([56,87,43,68,90])\n",
        "passingscore=studentscore>60\n",
        "print(passingscore)\n",
        "studentscore[passingscore]"
      ],
      "execution_count": null,
      "outputs": [
        {
          "output_type": "stream",
          "text": [
            "[False  True False  True  True]\n"
          ],
          "name": "stdout"
        },
        {
          "output_type": "execute_result",
          "data": {
            "text/plain": [
              "array([87, 68, 90])"
            ]
          },
          "metadata": {
            "tags": []
          },
          "execution_count": 34
        }
      ]
    },
    {
      "cell_type": "markdown",
      "metadata": {
        "id": "hfkrmmUw5Tzp"
      },
      "source": [
        "Copy and view (slide 18)\n",
        "When working with arrays, data is copied into new arrays only in some cases. "
      ]
    },
    {
      "cell_type": "code",
      "metadata": {
        "colab": {
          "base_uri": "https://localhost:8080/"
        },
        "id": "DOk8DTua7sn-",
        "outputId": "9aeef899-d5f7-4197-8b09-78808470578f"
      },
      "source": [
        "import numpy as np\n",
        "carss= np.array(['dodge','jeep','bmw'])\n",
        "print(carss)\n",
        "autos=carss\n",
        "print(autos)\n",
        "#show both subjects are the same\n",
        "print(carss is autos)\n",
        "print(len (autos))\n",
        "autos[1]='benz'\n",
        "print(autos)\n",
        "print(carss)\n"
      ],
      "execution_count": null,
      "outputs": [
        {
          "output_type": "stream",
          "text": [
            "['dodge' 'jeep' 'bmw']\n",
            "['dodge' 'jeep' 'bmw']\n",
            "True\n",
            "3\n",
            "['dodge' 'benz' 'bmw']\n",
            "['dodge' 'benz' 'bmw']\n"
          ],
          "name": "stdout"
        }
      ]
    },
    {
      "cell_type": "markdown",
      "metadata": {
        "id": "S4EtcFtjSXxV"
      },
      "source": [
        "Some times we want to manuplate an array but keep acopy of older version"
      ]
    },
    {
      "cell_type": "code",
      "metadata": {
        "colab": {
          "base_uri": "https://localhost:8080/"
        },
        "id": "oANcHw5PC8x2",
        "outputId": "368eb0bd-cf45-4862-d22d-6d4dde08d7e6"
      },
      "source": [
        "import numpy as np\n",
        "arr = np.array([1, 2, 3, 4, 5])\n",
        "x = arr.copy()\n",
        "arr[0] = 42\n",
        "\n",
        "print(arr)\n",
        "print(x)"
      ],
      "execution_count": null,
      "outputs": [
        {
          "output_type": "stream",
          "text": [
            "[42  2  3  4  5]\n",
            "[1 2 3 4 5]\n"
          ],
          "name": "stdout"
        }
      ]
    },
    {
      "cell_type": "markdown",
      "metadata": {
        "id": "EbcViOrjF0ol"
      },
      "source": [
        "(Ufunc) Universall functions ,ufuncs stands for \"Universal Functions\" and they are NumPy functions that operates on the ndarray object."
      ]
    },
    {
      "cell_type": "code",
      "metadata": {
        "colab": {
          "base_uri": "https://localhost:8080/"
        },
        "id": "mSLS7gFQGwmC",
        "outputId": "3be80cf8-f25f-4a77-8310-c5e1ac7100a8"
      },
      "source": [
        "import numpy as np\n",
        "\n",
        "x = [1, 2, 3, 4]\n",
        "y = [4, 5, 6, 7]\n",
        "z = np.add(x, y)\n",
        "\n",
        "print(z)"
      ],
      "execution_count": null,
      "outputs": [
        {
          "output_type": "stream",
          "text": [
            "[ 5  7  9 11]\n"
          ],
          "name": "stdout"
        }
      ]
    },
    {
      "cell_type": "code",
      "metadata": {
        "colab": {
          "base_uri": "https://localhost:8080/"
        },
        "id": "gf8KkTPTHECL",
        "outputId": "20110d5b-2512-4857-99b3-95b7f9e3e745"
      },
      "source": [
        "import numpy as np\n",
        "\n",
        "arr1 = np.array([10, 11, 12, 13, 14, 15])\n",
        "arr2 = np.array([20, 21, 22, 23, 24, 25])\n",
        "\n",
        "newarr = np.add(arr1, arr2)\n",
        "print(newarr)\n",
        "newarr=arr1 - arr2\n",
        "newarr\n",
        "print(newarr)"
      ],
      "execution_count": null,
      "outputs": [
        {
          "output_type": "stream",
          "text": [
            "[30 32 34 36 38 40]\n",
            "[-10 -10 -10 -10 -10 -10]\n"
          ],
          "name": "stdout"
        }
      ]
    },
    {
      "cell_type": "code",
      "metadata": {
        "colab": {
          "base_uri": "https://localhost:8080/"
        },
        "id": "fSotBB_FHnYj",
        "outputId": "8a80d5a4-ad02-4323-98ab-adbbb9c8fdc2"
      },
      "source": [
        "import numpy as np\n",
        "\n",
        "arr1 = ([10, 11, 45, 180, 90, 0])\n",
        "print(np.cos(arr1))\n",
        "print(np.sqrt(arr1)) "
      ],
      "execution_count": null,
      "outputs": [
        {
          "output_type": "stream",
          "text": [
            "[-0.83907153  0.0044257   0.52532199 -0.59846007 -0.44807362  1.        ]\n",
            "[ 3.16227766  3.31662479  6.70820393 13.41640786  9.48683298  0.        ]\n"
          ],
          "name": "stdout"
        }
      ]
    },
    {
      "cell_type": "markdown",
      "metadata": {
        "id": "SYZzjN3-QEKF"
      },
      "source": [
        "transposing arrays"
      ]
    },
    {
      "cell_type": "code",
      "metadata": {
        "colab": {
          "base_uri": "https://localhost:8080/"
        },
        "id": "8fvXOhcIQFVC",
        "outputId": "5a0d5203-4a48-43b3-a179-d94c74f910da"
      },
      "source": [
        "import numpy as np\n",
        "ary = np.array([[1, 2, 3], [4, 5, 6]])\n",
        "print(ary)\n",
        "np.transpose(ary)\n",
        "print(np.transpose(ary))"
      ],
      "execution_count": null,
      "outputs": [
        {
          "output_type": "stream",
          "text": [
            "[[1 2 3]\n",
            " [4 5 6]]\n",
            "[[1 4]\n",
            " [2 5]\n",
            " [3 6]]\n"
          ],
          "name": "stdout"
        }
      ]
    },
    {
      "cell_type": "markdown",
      "metadata": {
        "id": "EjHW7aBWXQs1"
      },
      "source": [
        "Statistics on Arrays"
      ]
    },
    {
      "cell_type": "markdown",
      "metadata": {
        "id": "mHDF-243XQbh"
      },
      "source": [
        "*Finding min ,max values in Array*\n",
        "   #Assignment"
      ]
    },
    {
      "cell_type": "code",
      "metadata": {
        "colab": {
          "base_uri": "https://localhost:8080/"
        },
        "id": "2_juqgEUXUuk",
        "outputId": "617c5e96-48f6-43ac-affd-b8f4dbbffda3"
      },
      "source": [
        "#Find Max number in Array\n",
        "score = np.array([[1,2,3],[4,5,6]])\n",
        "score"
      ],
      "execution_count": null,
      "outputs": [
        {
          "output_type": "execute_result",
          "data": {
            "text/plain": [
              "array([[1, 2, 3],\n",
              "       [4, 5, 6]])"
            ]
          },
          "metadata": {
            "tags": []
          },
          "execution_count": 54
        }
      ]
    },
    {
      "cell_type": "code",
      "metadata": {
        "colab": {
          "base_uri": "https://localhost:8080/"
        },
        "id": "K0jD3imnXopa",
        "outputId": "8daf6055-fa61-4094-a5e8-1c5a9952c35b"
      },
      "source": [
        "print(np.min(score))\n",
        "print(np.max(score))\n",
        "# max is 6, min is 1"
      ],
      "execution_count": null,
      "outputs": [
        {
          "output_type": "stream",
          "text": [
            "1\n",
            "6\n"
          ],
          "name": "stdout"
        }
      ]
    },
    {
      "cell_type": "markdown",
      "metadata": {
        "id": "dc4VwBnGbuem"
      },
      "source": [
        "Assignment Unit_2,L1\n",
        "Find maximum value & its index in a 1D Numpy Array:"
      ]
    },
    {
      "cell_type": "code",
      "metadata": {
        "colab": {
          "base_uri": "https://localhost:8080/"
        },
        "id": "tbPK-yh7a-p9",
        "outputId": "27d81840-5705-40d7-de36-7123e3521122"
      },
      "source": [
        "#Find maximum value & its index in a 1D Numpy Array:\n",
        "import numpy as np\n",
        "num = np.array([11, 12, 13, 14, 15, 16, 17, 15, 11, 12, 14, 15, 16, 17])\n",
        "print(np.max(num))\n"
      ],
      "execution_count": null,
      "outputs": [
        {
          "output_type": "stream",
          "text": [
            "17\n"
          ],
          "name": "stdout"
        }
      ]
    },
    {
      "cell_type": "markdown",
      "metadata": {
        "id": "OpJogMd_cGrY"
      },
      "source": [
        "Find index of maximum value :\n",
        "Get the array of indices of maximum value in numpy array using numpy.where() *italicized text*"
      ]
    },
    {
      "cell_type": "code",
      "metadata": {
        "colab": {
          "base_uri": "https://localhost:8080/"
        },
        "id": "bXeZjTgycLm_",
        "outputId": "9ae3d900-5d78-4294-abef-cba615e37360"
      },
      "source": [
        "# Get the max and indices of maximum element in numpy array\n",
        "import numpy as np\n",
        "num = np.array([11, 12, 13, 14, 15, 16, 17, 15, 11, 12, 14, 15, 16, 17])\n",
        "result = np.where(num == np.max(num)) #create variable which will have the value of the max element in array (num in this case)\n",
        "print('return max value is',np.max(num))\n",
        "print('Returned tuple of arrays :', result) # \n",
        "print('List of Indices of maximum element :', result[0])#,result[0] is the variable where [0] indicates where in the array the max value is"
      ],
      "execution_count": null,
      "outputs": [
        {
          "output_type": "stream",
          "text": [
            "return max value is 17\n",
            "Returned tuple of arrays : (array([ 6, 13]),)\n",
            "List of Indices of maximum element : [ 6 13]\n"
          ],
          "name": "stdout"
        }
      ]
    },
    {
      "cell_type": "code",
      "metadata": {
        "colab": {
          "base_uri": "https://localhost:8080/"
        },
        "id": "YE4LR1rOd5Tq",
        "outputId": "f6d9db7c-8d8b-474d-9bef-9edf0db99b87"
      },
      "source": [
        "#Dataset from summer Olympic London, year 2012\n",
        "import numpy as np\n",
        "np_olympic_country = np.array(['GBR','China','RUS','US','KOR','JPN','GER'])\n",
        "np_olympic_country_Gold = np.array([29,38,24,46,13,7,11])\n",
        "np_olympic_country_Silver = np.array([17,28,25,28,8,14,11])\n",
        "np_olympic_country_Bronze = np.array([19,22,32,29,7,17,14])\n",
        "highest = np.where(np_olympic_country_Gold== np.max(np_olympic_country_Gold))\n",
        "print('Max number of gold medals is',np.max(np_olympic_country_Gold ))\n",
        "print('index number of maximum element (gold medals) :', highest[0])\n",
        "print('The country with Max number of gold medals is:',np_olympic_country[highest])\n",
        "more_than_20_medals=np_olympic_country_Gold >20\n",
        "print(more_than_20_medals)\n",
        "np_olympic_country_Gold[more_than_20_medals]\n",
        "x = np.where(np_olympic_country_Gold >20)\n",
        "\n",
        "print('the countrieas with more than 20 medals are:',np_olympic_country[x])"
      ],
      "execution_count": null,
      "outputs": [
        {
          "output_type": "stream",
          "text": [
            "Max number of gold medals is 46\n",
            "index number of maximum element (gold medals) : [3]\n",
            "The country with Max number of gold medals is: ['US']\n",
            "[ True  True  True  True False False False]\n",
            "the countrieas with more than 20 medals are: ['GBR' 'China' 'RUS' 'US']\n"
          ],
          "name": "stdout"
        }
      ]
    },
    {
      "cell_type": "code",
      "metadata": {
        "colab": {
          "base_uri": "https://localhost:8080/"
        },
        "id": "9Oek0G2ykcEb",
        "outputId": "02bbf163-e1e0-4656-bfec-1bd4738fd3a9"
      },
      "source": [
        "#Find countries with more than 20 gold metals\n",
        "\n",
        "import numpy as np\n",
        "np_olympic_country_Gold = np.array([29,38,24,46,13,7,11])\n",
        "more_than_20_medals=np_olympic_country_Gold >20\n",
        "print(more_than_20_medals)\n",
        "np_olympic_country_Gold[more_than_20_medals]\n",
        "tara = np.where(np_olympic_country_Gold >20)\n",
        "\n",
        "print(tara)\n",
        "\n",
        "\n"
      ],
      "execution_count": null,
      "outputs": [
        {
          "output_type": "stream",
          "text": [
            "[ True  True  True  True False False False]\n",
            "(array([0, 1, 2, 3]),)\n"
          ],
          "name": "stdout"
        }
      ]
    }
  ]
}