{
  "nbformat": 4,
  "nbformat_minor": 0,
  "metadata": {
    "colab": {
      "name": "Copy of Copy of Unit 3 Lect 1.ipynb",
      "provenance": [],
      "include_colab_link": true
    },
    "kernelspec": {
      "name": "python3",
      "display_name": "Python 3"
    }
  },
  "cells": [
    {
      "cell_type": "markdown",
      "metadata": {
        "id": "view-in-github",
        "colab_type": "text"
      },
      "source": [
        "<a href=\"https://colab.research.google.com/github/NataliaRussuu/data_analytics_2/blob/main/Unit_3_Lecture_1_Assignments.ipynb\" target=\"_parent\"><img src=\"https://colab.research.google.com/assets/colab-badge.svg\" alt=\"Open In Colab\"/></a>"
      ]
    },
    {
      "cell_type": "code",
      "metadata": {
        "id": "z7z6BNam6xpY"
      },
      "source": [
        "# Unit3.Lecture 1"
      ],
      "execution_count": null,
      "outputs": []
    },
    {
      "cell_type": "code",
      "metadata": {
        "colab": {
          "base_uri": "https://localhost:8080/"
        },
        "id": "mtAG8JEBa59F",
        "outputId": "e06fb3b5-865f-4954-81a3-f879b66b2099"
      },
      "source": [
        "import numpy as np\n",
        "a = np.array([1,2,3,9], dtype='int32')\n",
        "print(a)"
      ],
      "execution_count": null,
      "outputs": [
        {
          "output_type": "stream",
          "text": [
            "[1 2 3 9]\n"
          ],
          "name": "stdout"
        }
      ]
    },
    {
      "cell_type": "code",
      "metadata": {
        "colab": {
          "base_uri": "https://localhost:8080/"
        },
        "id": "1sFIKpL9bZXT",
        "outputId": "93fb452a-c96c-45a3-9b14-379f7102dbd4"
      },
      "source": [
        "import numpy as np\n",
        "b = np.array([[9.0,8.0,7.0],[6.0,5.0,4.0]])\n",
        "print(b)\n",
        "print(b.size)\n",
        "\n",
        "print(b.shape)"
      ],
      "execution_count": null,
      "outputs": [
        {
          "output_type": "stream",
          "text": [
            "[[9. 8. 7.]\n",
            " [6. 5. 4.]]\n",
            "6\n",
            "(2, 3)\n"
          ],
          "name": "stdout"
        }
      ]
    },
    {
      "cell_type": "code",
      "metadata": {
        "colab": {
          "base_uri": "https://localhost:8080/"
        },
        "id": "rH0kYi9ehiGC",
        "outputId": "0bb60d9c-d8bd-4bb0-fe45-4360a392ebc1"
      },
      "source": [
        "b.ndim"
      ],
      "execution_count": null,
      "outputs": [
        {
          "output_type": "execute_result",
          "data": {
            "text/plain": [
              "2"
            ]
          },
          "metadata": {
            "tags": []
          },
          "execution_count": 4
        }
      ]
    },
    {
      "cell_type": "code",
      "metadata": {
        "colab": {
          "base_uri": "https://localhost:8080/"
        },
        "id": "TUCFC3aEbbrz",
        "outputId": "b427495f-cb4b-4f0b-e9c1-770ec750ecd6"
      },
      "source": [
        "# Get Dimension\n",
        "a.ndim"
      ],
      "execution_count": null,
      "outputs": [
        {
          "output_type": "execute_result",
          "data": {
            "text/plain": [
              "1"
            ]
          },
          "metadata": {
            "tags": []
          },
          "execution_count": 5
        }
      ]
    },
    {
      "cell_type": "code",
      "metadata": {
        "colab": {
          "base_uri": "https://localhost:8080/"
        },
        "id": "28UwKk_eh-IY",
        "outputId": "5db1208c-ecf8-4087-bda8-5e728b52e5f9"
      },
      "source": [
        "a.shape"
      ],
      "execution_count": null,
      "outputs": [
        {
          "output_type": "execute_result",
          "data": {
            "text/plain": [
              "(4,)"
            ]
          },
          "metadata": {
            "tags": []
          },
          "execution_count": 6
        }
      ]
    },
    {
      "cell_type": "code",
      "metadata": {
        "colab": {
          "base_uri": "https://localhost:8080/"
        },
        "id": "M6D-xq5bbnzR",
        "outputId": "9067e83d-a1dd-4c81-9263-b2912b059532"
      },
      "source": [
        " #Get Type\n",
        "a.dtype"
      ],
      "execution_count": null,
      "outputs": [
        {
          "output_type": "execute_result",
          "data": {
            "text/plain": [
              "dtype('int32')"
            ]
          },
          "metadata": {
            "tags": []
          },
          "execution_count": 7
        }
      ]
    },
    {
      "cell_type": "code",
      "metadata": {
        "colab": {
          "base_uri": "https://localhost:8080/"
        },
        "id": "jB8RkbRFbvrp",
        "outputId": "ef6553d5-2dc8-4b65-e32a-75e0558f554e"
      },
      "source": [
        "# Get Size\n",
        "a.itemsize"
      ],
      "execution_count": null,
      "outputs": [
        {
          "output_type": "execute_result",
          "data": {
            "text/plain": [
              "4"
            ]
          },
          "metadata": {
            "tags": []
          },
          "execution_count": 8
        }
      ]
    },
    {
      "cell_type": "code",
      "metadata": {
        "colab": {
          "base_uri": "https://localhost:8080/"
        },
        "id": "t2UyNZ3sb5bm",
        "outputId": "aa940cf1-de8f-482e-b9e8-1cea9b8f380d"
      },
      "source": [
        " #Get number of elements\n",
        "a.size"
      ],
      "execution_count": null,
      "outputs": [
        {
          "output_type": "execute_result",
          "data": {
            "text/plain": [
              "4"
            ]
          },
          "metadata": {
            "tags": []
          },
          "execution_count": 9
        }
      ]
    },
    {
      "cell_type": "code",
      "metadata": {
        "colab": {
          "base_uri": "https://localhost:8080/"
        },
        "id": "c2iKylDEH9s0",
        "outputId": "610986f9-b6f7-4581-b675-0a8c152ab1e0"
      },
      "source": [
        "import numpy as np\n",
        "c= np.array([13.1,2,3,9])\n",
        "print(c)\n",
        "#c.itemsize\n",
        "c.size"
      ],
      "execution_count": null,
      "outputs": [
        {
          "output_type": "stream",
          "text": [
            "[13.1  2.   3.   9. ]\n"
          ],
          "name": "stdout"
        },
        {
          "output_type": "execute_result",
          "data": {
            "text/plain": [
              "4"
            ]
          },
          "metadata": {
            "tags": []
          },
          "execution_count": 10
        }
      ]
    },
    {
      "cell_type": "code",
      "metadata": {
        "colab": {
          "base_uri": "https://localhost:8080/"
        },
        "id": "BhPdkRZsnPtQ",
        "outputId": "1cd9aa40-71c7-4c2b-8235-645ab174c6db"
      },
      "source": [
        "cars= np.array(['dodge','jeep','bmw'], dtype=str)\n",
        "print(cars)"
      ],
      "execution_count": null,
      "outputs": [
        {
          "output_type": "stream",
          "text": [
            "['dodge' 'jeep' 'bmw']\n"
          ],
          "name": "stdout"
        }
      ]
    },
    {
      "cell_type": "code",
      "metadata": {
        "colab": {
          "base_uri": "https://localhost:8080/"
        },
        "id": "Xb8eEdvIoHp1",
        "outputId": "a3e869f9-ead8-47e7-ee32-2460f3c046f0"
      },
      "source": [
        "cars.shape"
      ],
      "execution_count": null,
      "outputs": [
        {
          "output_type": "execute_result",
          "data": {
            "text/plain": [
              "(3,)"
            ]
          },
          "metadata": {
            "tags": []
          },
          "execution_count": 12
        }
      ]
    },
    {
      "cell_type": "code",
      "metadata": {
        "colab": {
          "base_uri": "https://localhost:8080/"
        },
        "id": "6-buaUt6otng",
        "outputId": "ec8924f8-8d95-4ad5-eac2-28bc3e763525"
      },
      "source": [
        "cars.size"
      ],
      "execution_count": null,
      "outputs": [
        {
          "output_type": "execute_result",
          "data": {
            "text/plain": [
              "3"
            ]
          },
          "metadata": {
            "tags": []
          },
          "execution_count": 13
        }
      ]
    },
    {
      "cell_type": "code",
      "metadata": {
        "colab": {
          "base_uri": "https://localhost:8080/"
        },
        "id": "TVAei9cCox9w",
        "outputId": "8fa2543e-8e25-4918-f750-26eec1b59cd1"
      },
      "source": [
        "cars.ndim"
      ],
      "execution_count": null,
      "outputs": [
        {
          "output_type": "execute_result",
          "data": {
            "text/plain": [
              "1"
            ]
          },
          "metadata": {
            "tags": []
          },
          "execution_count": 14
        }
      ]
    },
    {
      "cell_type": "code",
      "metadata": {
        "colab": {
          "base_uri": "https://localhost:8080/"
        },
        "id": "lT8wQOUXo_rV",
        "outputId": "b2e9aafa-9def-4783-e83f-66479a270692"
      },
      "source": [
        "cars.itemsize"
      ],
      "execution_count": null,
      "outputs": [
        {
          "output_type": "execute_result",
          "data": {
            "text/plain": [
              "20"
            ]
          },
          "metadata": {
            "tags": []
          },
          "execution_count": 15
        }
      ]
    },
    {
      "cell_type": "code",
      "metadata": {
        "colab": {
          "base_uri": "https://localhost:8080/"
        },
        "id": "eDbUNXuHpPE5",
        "outputId": "bad52313-4132-49c2-b126-3f42d3fd24b3"
      },
      "source": [
        "cars.dtype"
      ],
      "execution_count": null,
      "outputs": [
        {
          "output_type": "execute_result",
          "data": {
            "text/plain": [
              "dtype('<U5')"
            ]
          },
          "metadata": {
            "tags": []
          },
          "execution_count": 16
        }
      ]
    },
    {
      "cell_type": "markdown",
      "metadata": {
        "id": "I3f31ydwcFPJ"
      },
      "source": [
        "\n",
        "Accessing/Changing specific elements, rows, columns, etc"
      ]
    },
    {
      "cell_type": "code",
      "metadata": {
        "colab": {
          "base_uri": "https://localhost:8080/"
        },
        "id": "wllcZwX8b-3R",
        "outputId": "4405f6ab-2fc5-4340-ff35-a6d4a77e87ef"
      },
      "source": [
        "a = np.array([[1,2,3,4,5,6,7],[8,9,10,11,12,13,14]])\n",
        "print(a)"
      ],
      "execution_count": null,
      "outputs": [
        {
          "output_type": "stream",
          "text": [
            "[[ 1  2  3  4  5  6  7]\n",
            " [ 8  9 10 11 12 13 14]]\n"
          ],
          "name": "stdout"
        }
      ]
    },
    {
      "cell_type": "code",
      "metadata": {
        "colab": {
          "base_uri": "https://localhost:8080/"
        },
        "id": "CbSlBPqjcHYx",
        "outputId": "276b6a53-0065-4f26-ccf5-827f6e7adf83"
      },
      "source": [
        "a = np.array([[1,2,3,4,5,6,7],[8,9,10,11,12,13,14]])\n",
        "print(a[1,0],a[1,2])\n"
      ],
      "execution_count": null,
      "outputs": [
        {
          "output_type": "stream",
          "text": [
            "8 10\n"
          ],
          "name": "stdout"
        }
      ]
    },
    {
      "cell_type": "code",
      "metadata": {
        "colab": {
          "base_uri": "https://localhost:8080/"
        },
        "id": "N4KJ8LJBcNZO",
        "outputId": "5dff3bff-70fd-4299-cd5f-29c4a7a1f7a1"
      },
      "source": [
        "# Get a specific element [r, c]\n",
        "a[1, 5]"
      ],
      "execution_count": null,
      "outputs": [
        {
          "output_type": "execute_result",
          "data": {
            "text/plain": [
              "13"
            ]
          },
          "metadata": {
            "tags": []
          },
          "execution_count": 19
        }
      ]
    },
    {
      "cell_type": "code",
      "metadata": {
        "colab": {
          "base_uri": "https://localhost:8080/"
        },
        "id": "VXVAOESYcSm2",
        "outputId": "cec27bf0-565c-434d-bb40-34d72c8d1935"
      },
      "source": [
        "# Get a specific row \n",
        "a[0, :]"
      ],
      "execution_count": null,
      "outputs": [
        {
          "output_type": "execute_result",
          "data": {
            "text/plain": [
              "array([1, 2, 3, 4, 5, 6, 7])"
            ]
          },
          "metadata": {
            "tags": []
          },
          "execution_count": 20
        }
      ]
    },
    {
      "cell_type": "code",
      "metadata": {
        "colab": {
          "base_uri": "https://localhost:8080/"
        },
        "id": "g_7Raay9cW25",
        "outputId": "720f82e4-070f-4384-9425-f66e2c3a2b9f"
      },
      "source": [
        "# Get a specific column\n",
        "a[:, 2]"
      ],
      "execution_count": null,
      "outputs": [
        {
          "output_type": "execute_result",
          "data": {
            "text/plain": [
              "array([ 3, 10])"
            ]
          },
          "metadata": {
            "tags": []
          },
          "execution_count": 21
        }
      ]
    },
    {
      "cell_type": "markdown",
      "metadata": {
        "id": "VUP_fEqccz0V"
      },
      "source": [
        "Initializing Different Types of Arrays"
      ]
    },
    {
      "cell_type": "code",
      "metadata": {
        "colab": {
          "base_uri": "https://localhost:8080/"
        },
        "id": "vCmn8v4HczWl",
        "outputId": "cd3d6cbb-bd21-4ecf-cf21-359fa17e9785"
      },
      "source": [
        "# All 0s matrix\n",
        "np.zeros((2,3))"
      ],
      "execution_count": null,
      "outputs": [
        {
          "output_type": "execute_result",
          "data": {
            "text/plain": [
              "array([[0., 0., 0.],\n",
              "       [0., 0., 0.]])"
            ]
          },
          "metadata": {
            "tags": []
          },
          "execution_count": 22
        }
      ]
    },
    {
      "cell_type": "code",
      "metadata": {
        "colab": {
          "base_uri": "https://localhost:8080/"
        },
        "id": "LTWWSxLLc5Z3",
        "outputId": "cb0f346b-11a5-487a-a073-d71da7ef8025"
      },
      "source": [
        "# All 1s matrix\n",
        "d=np.ones((4,2), dtype='int32')\n",
        "d"
      ],
      "execution_count": null,
      "outputs": [
        {
          "output_type": "execute_result",
          "data": {
            "text/plain": [
              "array([[1, 1],\n",
              "       [1, 1],\n",
              "       [1, 1],\n",
              "       [1, 1]], dtype=int32)"
            ]
          },
          "metadata": {
            "tags": []
          },
          "execution_count": 23
        }
      ]
    },
    {
      "cell_type": "markdown",
      "metadata": {
        "id": "UcMwYIYxdoiJ"
      },
      "source": [
        "Mathematics/can perform basic +,-,/,* and advanced operations"
      ]
    },
    {
      "cell_type": "code",
      "metadata": {
        "colab": {
          "base_uri": "https://localhost:8080/"
        },
        "id": "t4B0McdmdI8x",
        "outputId": "cb949f2e-bae5-49d0-afe6-b3ba98b7a03b"
      },
      "source": [
        "a = np.array([1,2,3,4])\n",
        "print(a)"
      ],
      "execution_count": null,
      "outputs": [
        {
          "output_type": "stream",
          "text": [
            "[1 2 3 4]\n"
          ],
          "name": "stdout"
        }
      ]
    },
    {
      "cell_type": "code",
      "metadata": {
        "colab": {
          "base_uri": "https://localhost:8080/"
        },
        "id": "ifRN0yK8dOeO",
        "outputId": "d76b130c-64ae-4497-a99b-920781b52aae"
      },
      "source": [
        "a + 2"
      ],
      "execution_count": null,
      "outputs": [
        {
          "output_type": "execute_result",
          "data": {
            "text/plain": [
              "array([3, 4, 5, 6])"
            ]
          },
          "metadata": {
            "tags": []
          },
          "execution_count": 25
        }
      ]
    },
    {
      "cell_type": "code",
      "metadata": {
        "colab": {
          "base_uri": "https://localhost:8080/"
        },
        "id": "n-rc6vFmdP8m",
        "outputId": "f0c2fb77-4757-4bac-cb8c-6be09d3a40a4"
      },
      "source": [
        "a * 2"
      ],
      "execution_count": null,
      "outputs": [
        {
          "output_type": "execute_result",
          "data": {
            "text/plain": [
              "array([2, 4, 6, 8])"
            ]
          },
          "metadata": {
            "tags": []
          },
          "execution_count": 26
        }
      ]
    },
    {
      "cell_type": "code",
      "metadata": {
        "colab": {
          "base_uri": "https://localhost:8080/"
        },
        "id": "aEMQloWmdq3m",
        "outputId": "5b192ef9-80ca-4326-f022-65f993f54c3e"
      },
      "source": [
        "# adding two arrays, is adding each element by element/they have to be the same size\n",
        "a = np.array([1,2,3,4])\n",
        "b = np.array([1,0,1,0])\n",
        "a + b"
      ],
      "execution_count": null,
      "outputs": [
        {
          "output_type": "execute_result",
          "data": {
            "text/plain": [
              "array([2, 2, 4, 4])"
            ]
          },
          "metadata": {
            "tags": []
          },
          "execution_count": 27
        }
      ]
    },
    {
      "cell_type": "markdown",
      "metadata": {
        "id": "LwHMZHPev1th"
      },
      "source": [
        "Accessing Elements of Array "
      ]
    },
    {
      "cell_type": "code",
      "metadata": {
        "colab": {
          "base_uri": "https://localhost:8080/"
        },
        "id": "jCSUFI03v62y",
        "outputId": "6b29af24-b7e0-4e58-ddac-9e56a9315217"
      },
      "source": [
        "a = np.array([17,2,3,4])\n",
        "print(a[0])\n",
        "a[3]"
      ],
      "execution_count": null,
      "outputs": [
        {
          "output_type": "stream",
          "text": [
            "17\n"
          ],
          "name": "stdout"
        },
        {
          "output_type": "execute_result",
          "data": {
            "text/plain": [
              "4"
            ]
          },
          "metadata": {
            "tags": []
          },
          "execution_count": 28
        }
      ]
    },
    {
      "cell_type": "code",
      "metadata": {
        "colab": {
          "base_uri": "https://localhost:8080/"
        },
        "id": "c0J4lFyiv1Vz",
        "outputId": "7b22dc84-0d01-4f49-f0ea-3221f57d3121"
      },
      "source": [
        "w=np.array([[1,2,3,4,5,6,7],[8,9,10,11,12,13,14]])\n",
        "print(w)\n",
        "print(w[0,0])\n",
        "print(w[1,3])"
      ],
      "execution_count": null,
      "outputs": [
        {
          "output_type": "stream",
          "text": [
            "[[ 1  2  3  4  5  6  7]\n",
            " [ 8  9 10 11 12 13 14]]\n",
            "1\n",
            "11\n"
          ],
          "name": "stdout"
        }
      ]
    },
    {
      "cell_type": "code",
      "metadata": {
        "colab": {
          "base_uri": "https://localhost:8080/"
        },
        "id": "tzwXsBEP0hmo",
        "outputId": "a1bbed9f-10cd-44b1-d90b-4fa5bb2e3e1e"
      },
      "source": [
        "import numpy as np\n",
        "arr = np.array([1, 2, 3, 4])\n",
        "print(arr[2] + arr[3])"
      ],
      "execution_count": null,
      "outputs": [
        {
          "output_type": "stream",
          "text": [
            "7\n"
          ],
          "name": "stdout"
        }
      ]
    },
    {
      "cell_type": "markdown",
      "metadata": {
        "id": "U_3C2Qv90JMk"
      },
      "source": [
        "*******Finding value greater or less < x >  in Array********** *Assignment* "
      ]
    },
    {
      "cell_type": "code",
      "metadata": {
        "colab": {
          "base_uri": "https://localhost:8080/"
        },
        "id": "BtR6DlYv1ion",
        "outputId": "6de20d8d-8f60-4bbc-8813-cdb0085e109b"
      },
      "source": [
        "import numpy as np\n",
        "studentscore = np.array([56,87,43,68,90])\n",
        "passingscore=studentscore>60\n",
        "print(passingscore)\n",
        "studentscore[passingscore]"
      ],
      "execution_count": null,
      "outputs": [
        {
          "output_type": "stream",
          "text": [
            "[False  True False  True  True]\n"
          ],
          "name": "stdout"
        },
        {
          "output_type": "execute_result",
          "data": {
            "text/plain": [
              "array([87, 68, 90])"
            ]
          },
          "metadata": {
            "tags": []
          },
          "execution_count": 31
        }
      ]
    },
    {
      "cell_type": "markdown",
      "metadata": {
        "id": "hfkrmmUw5Tzp"
      },
      "source": [
        "Copy and view (slide 18)\n",
        "When working with arrays, data is copied into new arrays only in some cases. "
      ]
    },
    {
      "cell_type": "code",
      "metadata": {
        "colab": {
          "base_uri": "https://localhost:8080/"
        },
        "id": "DOk8DTua7sn-",
        "outputId": "7b86a597-65c7-4291-974d-826f6589eb2c"
      },
      "source": [
        "import numpy as np\n",
        "carss= np.array(['dodge','jeep','bmw'])\n",
        "print(carss)\n",
        "autos=carss\n",
        "print(autos)\n",
        "#show both subjects are the same\n",
        "print(carss is autos)\n",
        "print(len (autos))\n",
        "autos[1]='benz'\n",
        "print(autos)\n",
        "print(carss)\n"
      ],
      "execution_count": null,
      "outputs": [
        {
          "output_type": "stream",
          "text": [
            "['dodge' 'jeep' 'bmw']\n",
            "['dodge' 'jeep' 'bmw']\n",
            "True\n",
            "3\n",
            "['dodge' 'benz' 'bmw']\n",
            "['dodge' 'benz' 'bmw']\n"
          ],
          "name": "stdout"
        }
      ]
    },
    {
      "cell_type": "markdown",
      "metadata": {
        "id": "S4EtcFtjSXxV"
      },
      "source": [
        "Some times we want to manuplate an array but keep acopy of older version"
      ]
    },
    {
      "cell_type": "code",
      "metadata": {
        "colab": {
          "base_uri": "https://localhost:8080/"
        },
        "id": "oANcHw5PC8x2",
        "outputId": "55bf6d75-3aae-498c-a8c9-2d5b80be4802"
      },
      "source": [
        "import numpy as np\n",
        "arr = np.array([1, 2, 3, 4, 5])\n",
        "x = arr.copy()\n",
        "arr[0] = 42\n",
        "\n",
        "print(arr)\n",
        "print(x)"
      ],
      "execution_count": null,
      "outputs": [
        {
          "output_type": "stream",
          "text": [
            "[42  2  3  4  5]\n",
            "[1 2 3 4 5]\n"
          ],
          "name": "stdout"
        }
      ]
    },
    {
      "cell_type": "markdown",
      "metadata": {
        "id": "EbcViOrjF0ol"
      },
      "source": [
        "(Ufunc) Universall functions ,ufuncs stands for \"Universal Functions\" and they are NumPy functions that operates on the ndarray object."
      ]
    },
    {
      "cell_type": "code",
      "metadata": {
        "colab": {
          "base_uri": "https://localhost:8080/"
        },
        "id": "mSLS7gFQGwmC",
        "outputId": "9727f440-93aa-4c59-ccd0-a3de348b632c"
      },
      "source": [
        "import numpy as np\n",
        "\n",
        "x = [1, 2, 3, 4]\n",
        "y = [4, 5, 6, 7]\n",
        "z = np.add(x, y)\n",
        "\n",
        "print(z)"
      ],
      "execution_count": null,
      "outputs": [
        {
          "output_type": "stream",
          "text": [
            "[ 5  7  9 11]\n"
          ],
          "name": "stdout"
        }
      ]
    },
    {
      "cell_type": "code",
      "metadata": {
        "colab": {
          "base_uri": "https://localhost:8080/"
        },
        "id": "gf8KkTPTHECL",
        "outputId": "d3a48eed-1fbb-4eea-b7f2-61d0c917ca15"
      },
      "source": [
        "import numpy as np\n",
        "\n",
        "arr1 = np.array([10, 11, 12, 13, 14, 15])\n",
        "arr2 = np.array([20, 21, 22, 23, 24, 25])\n",
        "\n",
        "newarr = np.add(arr1, arr2)\n",
        "print(newarr)\n",
        "newarr=arr1 - arr2\n",
        "newarr\n",
        "print(newarr)"
      ],
      "execution_count": null,
      "outputs": [
        {
          "output_type": "stream",
          "text": [
            "[30 32 34 36 38 40]\n",
            "[-10 -10 -10 -10 -10 -10]\n"
          ],
          "name": "stdout"
        }
      ]
    },
    {
      "cell_type": "code",
      "metadata": {
        "colab": {
          "base_uri": "https://localhost:8080/"
        },
        "id": "fSotBB_FHnYj",
        "outputId": "176dcdd8-5a00-4934-f49e-408716f1635d"
      },
      "source": [
        "import numpy as np\n",
        "\n",
        "arr1 = ([10, 11, 45, 180, 90, 0])\n",
        "print(np.cos(arr1))\n",
        "print(np.sqrt(arr1)) "
      ],
      "execution_count": null,
      "outputs": [
        {
          "output_type": "stream",
          "text": [
            "[-0.83907153  0.0044257   0.52532199 -0.59846007 -0.44807362  1.        ]\n",
            "[ 3.16227766  3.31662479  6.70820393 13.41640786  9.48683298  0.        ]\n"
          ],
          "name": "stdout"
        }
      ]
    },
    {
      "cell_type": "markdown",
      "metadata": {
        "id": "SYZzjN3-QEKF"
      },
      "source": [
        "transposing arrays"
      ]
    },
    {
      "cell_type": "code",
      "metadata": {
        "colab": {
          "base_uri": "https://localhost:8080/"
        },
        "id": "8fvXOhcIQFVC",
        "outputId": "58453d6c-a085-44ba-b057-b5d4d0e8a383"
      },
      "source": [
        "import numpy as np\n",
        "ary = np.array([[1, 2, 3], [4, 5, 6]])\n",
        "print(ary)\n",
        "np.transpose(ary)\n",
        "print(np.transpose(ary))"
      ],
      "execution_count": null,
      "outputs": [
        {
          "output_type": "stream",
          "text": [
            "[[1 2 3]\n",
            " [4 5 6]]\n",
            "[[1 4]\n",
            " [2 5]\n",
            " [3 6]]\n"
          ],
          "name": "stdout"
        }
      ]
    },
    {
      "cell_type": "markdown",
      "metadata": {
        "id": "EjHW7aBWXQs1"
      },
      "source": [
        "Statistics on Arrays"
      ]
    },
    {
      "cell_type": "markdown",
      "metadata": {
        "id": "mHDF-243XQbh"
      },
      "source": [
        "*Finding min, max values in Array*\n",
        "   #Assignment"
      ]
    },
    {
      "cell_type": "code",
      "metadata": {
        "colab": {
          "base_uri": "https://localhost:8080/"
        },
        "id": "2_juqgEUXUuk",
        "outputId": "a8fbd611-e94e-47b5-f9cb-f29745378458"
      },
      "source": [
        "#Find Max number in Array\n",
        "score = np.array([[1,2,3],[4,5,6]])\n",
        "score"
      ],
      "execution_count": null,
      "outputs": [
        {
          "output_type": "execute_result",
          "data": {
            "text/plain": [
              "array([[1, 2, 3],\n",
              "       [4, 5, 6]])"
            ]
          },
          "metadata": {
            "tags": []
          },
          "execution_count": 38
        }
      ]
    },
    {
      "cell_type": "code",
      "metadata": {
        "colab": {
          "base_uri": "https://localhost:8080/"
        },
        "id": "K0jD3imnXopa",
        "outputId": "486d5e00-195c-4689-b177-6234ec62819a"
      },
      "source": [
        "print(np.min(score))\n",
        "print(np.max(score))\n",
        "# max is 6, min is 1"
      ],
      "execution_count": null,
      "outputs": [
        {
          "output_type": "stream",
          "text": [
            "1\n",
            "6\n"
          ],
          "name": "stdout"
        }
      ]
    },
    {
      "cell_type": "markdown",
      "metadata": {
        "id": "dc4VwBnGbuem"
      },
      "source": [
        "*Assignment Unit_2,L1*\n",
        "Find maximum value & its index in a 1D Numpy Array:"
      ]
    },
    {
      "cell_type": "code",
      "metadata": {
        "colab": {
          "base_uri": "https://localhost:8080/"
        },
        "id": "tbPK-yh7a-p9",
        "outputId": "25806f75-4aa4-4173-d07a-36aa789fb9fa"
      },
      "source": [
        "#Find maximum value & its index in a 1D Numpy Array:\n",
        "import numpy as np\n",
        "num = np.array([11, 12, 13, 14, 15, 16, 17, 15, 11, 12, 14, 15, 16, 17])\n",
        "print(np.max(num))\n"
      ],
      "execution_count": null,
      "outputs": [
        {
          "output_type": "stream",
          "text": [
            "17\n"
          ],
          "name": "stdout"
        }
      ]
    },
    {
      "cell_type": "markdown",
      "metadata": {
        "id": "OpJogMd_cGrY"
      },
      "source": [
        "Assignment. Olymic medals"
      ]
    },
    {
      "cell_type": "code",
      "metadata": {
        "colab": {
          "base_uri": "https://localhost:8080/"
        },
        "id": "bXeZjTgycLm_",
        "outputId": "ff2011c2-97c5-40ba-956a-308c314c4098"
      },
      "source": [
        "# Get the max and indices of maximum element in numpy array\n",
        "import numpy as np\n",
        "num = np.array([11, 12, 13, 14, 15, 16, 17, 15, 11, 12, 14, 15, 16, 17])\n",
        "result = np.where(num == np.max(num)) #create variable which will have the value of the max element in array (num in this case)\n",
        "print('return max value is',np.max(num))\n",
        "print('Returned tuple of arrays :', result) # \n",
        "print('List of Indices of maximum element :', result[0])#,result[0] is the variable where [0] indicates where in the array the max value is"
      ],
      "execution_count": null,
      "outputs": [
        {
          "output_type": "stream",
          "text": [
            "return max value is 17\n",
            "Returned tuple of arrays : (array([ 6, 13]),)\n",
            "List of Indices of maximum element : [ 6 13]\n"
          ],
          "name": "stdout"
        }
      ]
    },
    {
      "cell_type": "code",
      "metadata": {
        "colab": {
          "base_uri": "https://localhost:8080/"
        },
        "id": "YE4LR1rOd5Tq",
        "outputId": "f3bfd010-5727-4b66-8fe8-0ad747e94e9b"
      },
      "source": [
        "#Dataset from summer Olympic London, year 2012\n",
        "import numpy as np\n",
        "np_olympic_country = np.array(['GBR','China','RUS','US','KOR','JPN','GER'])\n",
        "np_olympic_country_Gold = np.array([29,38,24,46,13,7,11])\n",
        "np_olympic_country_Silver = np.array([17,28,25,28,8,14,11])\n",
        "np_olympic_country_Bronze = np.array([19,22,32,29,7,17,14])\n",
        "highest = np.where(np_olympic_country_Gold== np.max(np_olympic_country_Gold))\n",
        "print('Max number of gold medals is',np.max(np_olympic_country_Gold ))\n",
        "print('index number of maximum element (gold medals) :', highest[0])\n",
        "print('The country with Max number of gold medals is:',np_olympic_country[highest])\n",
        "more_than_20_medals=np_olympic_country_Gold >20\n",
        "print(more_than_20_medals)\n",
        "np_olympic_country_Gold[more_than_20_medals]\n",
        "x = np.where(np_olympic_country_Gold >20)\n",
        "\n",
        "print('the countrieas with more than 20 medals are:',np_olympic_country[x])"
      ],
      "execution_count": null,
      "outputs": [
        {
          "output_type": "stream",
          "text": [
            "Max number of gold medals is 46\n",
            "index number of maximum element (gold medals) : [3]\n",
            "The country with Max number of gold medals is: ['US']\n",
            "[ True  True  True  True False False False]\n",
            "the countrieas with more than 20 medals are: ['GBR' 'China' 'RUS' 'US']\n"
          ],
          "name": "stdout"
        }
      ]
    },
    {
      "cell_type": "code",
      "metadata": {
        "colab": {
          "base_uri": "https://localhost:8080/"
        },
        "id": "9Oek0G2ykcEb",
        "outputId": "6ee291ad-a92f-4e1d-e34a-a7dad4ccf287"
      },
      "source": [
        "#Find countries with more than 20 gold metals\n",
        "\n",
        "import numpy as np\n",
        "np_olympic_country_Gold = np.array([29,38,24,46,13,7,11])\n",
        "more_than_20_medals=np_olympic_country_Gold >20\n",
        "print(more_than_20_medals)\n",
        "np_olympic_country_Gold[more_than_20_medals]\n",
        "tara = np.where(np_olympic_country_Gold >20)\n",
        "\n",
        "print(tara)\n",
        "\n",
        "\n"
      ],
      "execution_count": null,
      "outputs": [
        {
          "output_type": "stream",
          "text": [
            "[ True  True  True  True False False False]\n",
            "(array([0, 1, 2, 3]),)\n"
          ],
          "name": "stdout"
        }
      ]
    }
  ]
}