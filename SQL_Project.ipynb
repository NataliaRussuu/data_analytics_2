{
  "nbformat": 4,
  "nbformat_minor": 0,
  "metadata": {
    "colab": {
      "name": " SQL Project.ipynb",
      "provenance": [],
      "collapsed_sections": [],
      "include_colab_link": true
    },
    "kernelspec": {
      "name": "python3",
      "display_name": "Python 3"
    },
    "language_info": {
      "name": "python"
    }
  },
  "cells": [
    {
      "cell_type": "markdown",
      "metadata": {
        "id": "view-in-github",
        "colab_type": "text"
      },
      "source": [
        "<a href=\"https://colab.research.google.com/github/NataliaRussuu/data_analytics_2/blob/main/SQL_Project.ipynb\" target=\"_parent\"><img src=\"https://colab.research.google.com/assets/colab-badge.svg\" alt=\"Open In Colab\"/></a>"
      ]
    },
    {
      "cell_type": "markdown",
      "metadata": {
        "id": "ftciF_vDWWgz"
      },
      "source": [
        "Natalia Russu. Mini Project SQL"
      ]
    },
    {
      "cell_type": "markdown",
      "metadata": {
        "id": "bRifwC8KY87o"
      },
      "source": [
        "#Create a video table. \n",
        "\n",
        "\n"
      ]
    },
    {
      "cell_type": "markdown",
      "metadata": {
        "id": "hvhe-SAXXFiY"
      },
      "source": [
        "\n",
        "\n",
        "DROP TABLE IF EXISTS video;\n",
        "\n",
        "CREATE TABLE video (vid_id serial,\n",
        "\n",
        "                title varchar(255),\n",
        "\n",
        "                len_vid float,\n",
        "\n",
        "                url varchar(255),\n",
        "\n",
        "               Primary Key(vid_id));\n",
        "\n",
        "\n",
        "\n"
      ]
    },
    {
      "cell_type": "markdown",
      "metadata": {
        "id": "83AAltbFZtp-"
      },
      "source": [
        "##To insert the values in the table:\n",
        "    INSERT INTO video VALUES(1,\n",
        "\t\t\t\t\t\t 'Nainowale Ne Full Video Song | Padmaavat | Deepika Padukone | Shahid Kapoor | Ranveer Singh',\n",
        "\t\t\t\t\t\t 2.32,'https://youtu.be/xE9FBL7jUGA');\t\t\t   \n",
        "    INSERT INTO video VALUES(2,'Bol Na Halke Halke | Full Song | Jhoom Barabar Jhoom | Abhishek, Preity | Shankar-Ehsaan-Loy, Gulzar',\n",
        "\t\t\t\t\t\t 7.41,'https://youtu.be/jXwg9l9D51A');\n",
        "    INSERT INTO video VALUES(3, 'Jon Batiste - I NEED YOU',\n",
        "\t\t\t\t\t\t 3.50,'https://youtu.be/AXT00sWwuTQ');\n",
        "    INSERT INTO video VALUES(4, 'Pharrell Williams - Happy (Video)',\n",
        "\t\t\t\t\t\t 4.00,'https://youtu.be/ZbZSe6N_BXs');"
      ]
    },
    {
      "cell_type": "markdown",
      "metadata": {
        "id": "ystO7SZWVcPm"
      },
      "source": [
        "## View the table:\n",
        "    SELECT * FROM video;"
      ]
    },
    {
      "cell_type": "markdown",
      "metadata": {
        "id": "NOpPa_5caRpU"
      },
      "source": [
        "#Create a second table. \n",
        "> Create a second table that provides at least two user reviews for each of at least two of the videos. \n",
        "These should be imaginary reviews that include columns for the user’s name (“Asher”, “John”, etc.), the rating (which could be NULL, or a number between 0 and 5), and a short text review (“Loved it!”).  There should be a column that links back to the ID column in the table of videos.\n"
      ]
    },
    {
      "cell_type": "markdown",
      "metadata": {
        "id": "rwnR1ahiaZns"
      },
      "source": [
        "    DROP TABLE IF EXISTS Reviewers;\n",
        "\n",
        "    CREATE TABLE Reviewers(\n",
        "\tuser_id varchar(255),\n",
        "\trating int,\n",
        "\treview text\n",
        "\t);"
      ]
    },
    {
      "cell_type": "markdown",
      "metadata": {
        "id": "veCMzskvaj5M"
      },
      "source": [
        "##add foreign key to the reviwers (second) table:\n",
        "    ALTER TABLE Reviewers ADD column vid_id int, add CONSTRAINT fk_video \n",
        "\t\tFOREIGN KEY(vid_id)\n",
        "\t\t\tREFERENCES video(vid_id);"
      ]
    },
    {
      "cell_type": "markdown",
      "metadata": {
        "id": "YAAmaXCLat8b"
      },
      "source": [
        "##insert values in the Reviewers table:\n",
        "    INSERT INTO Reviewers Values('Asher',\n",
        "\t\t\t\t\t\t\t5,\n",
        "\t\t\t\t\t\t\t'Loved it',\n",
        "\t\t\t\t\t\t\t 1);\n",
        "    INSERT INTO Reviewers Values('Asher',\n",
        "\t\t\t\t\t\t\t5,\n",
        "\t\t\t\t\t\t\t'Loved it',\n",
        "\t\t\t\t\t\t\t 2);\n",
        "    INSERT INTO Reviewers Values('John',\n",
        "\t\t\t\t\t\t\t5,\n",
        "\t\t\t\t\t\t\t'Like it',\n",
        "\t\t\t\t\t\t\t 2);\n",
        "    INSERT INTO Reviewers Values('John',\n",
        "\t\t\t\t\t\t\t4,\n",
        "\t\t\t\t\t\t\t'awesome song',\n",
        "\t\t\t\t\t\t\t 1);\n",
        "    INSERT INTO Reviewers Values('John',\n",
        "\t\t\t\t\t\t\t4,\n",
        "\t\t\t\t\t\t\t'most watched song',\n",
        "\t\t\t\t\t\t\t 4);"
      ]
    },
    {
      "cell_type": "markdown",
      "metadata": {
        "id": "m9S5wBOAVxQf"
      },
      "source": [
        "##To view the reviewers table:\n",
        "   \n",
        "    select * from Reviewers;\n"
      ]
    },
    {
      "cell_type": "markdown",
      "metadata": {
        "id": "Ka7T00k5Ww25"
      },
      "source": [
        "#To join the 2  tables:\n",
        "\n",
        "SELECT * FROM video\n",
        "FULL JOIN Reviewers \n",
        "ON video.vid_id = Reviewers.vid_id;\n",
        "\n"
      ]
    }
  ]
}