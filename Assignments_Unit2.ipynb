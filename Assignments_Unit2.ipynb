{
  "nbformat": 4,
  "nbformat_minor": 0,
  "metadata": {
    "colab": {
      "name": "Homework1.ipynb",
      "provenance": [],
      "collapsed_sections": [],
      "authorship_tag": "ABX9TyNJqwKk0xCSJtKJ21KtBVYy",
      "include_colab_link": true
    },
    "kernelspec": {
      "name": "python3",
      "display_name": "Python 3"
    },
    "language_info": {
      "name": "python"
    }
  },
  "cells": [
    {
      "cell_type": "markdown",
      "metadata": {
        "id": "view-in-github",
        "colab_type": "text"
      },
      "source": [
        "<a href=\"https://colab.research.google.com/github/NataliaRussuu/data_analytics_2/blob/main/Assignments_Unit2.ipynb\" target=\"_parent\"><img src=\"https://colab.research.google.com/assets/colab-badge.svg\" alt=\"Open In Colab\"/></a>"
      ]
    },
    {
      "cell_type": "markdown",
      "metadata": {
        "id": "43hjUCRYVdkg"
      },
      "source": [
        " Russu Natalia\n",
        "\n",
        "---\n",
        "\n",
        "\n",
        "\n",
        "\n",
        "\n"
      ]
    },
    {
      "cell_type": "markdown",
      "metadata": {
        "id": "IjP_s_gVV-aS"
      },
      "source": [
        "**Unit2. L2.  \n",
        "Q1.** Python is the most poppular, multipurpose programming language. It is a high level and easy to learn open-sourced software; it helps us discover new things in the modern world: we can develop apps and websites using Python, games, almost anything we want to create. It is widely used in data analytics(big data, texts etc.) and AI, machine learning - simply is a great tool to automate repetitive tasks."
      ]
    },
    {
      "cell_type": "markdown",
      "metadata": {
        "id": "xuNEKrvSZn7E"
      },
      "source": [
        "**Q2.**"
      ]
    },
    {
      "cell_type": "code",
      "metadata": {
        "id": "nvqAK3tRZxvN"
      },
      "source": [
        "1_message=('abcd')\n",
        "print(1_message)"
      ],
      "execution_count": null,
      "outputs": []
    },
    {
      "cell_type": "markdown",
      "metadata": {
        "id": "s7RU1-0aaUnf"
      },
      "source": [
        "*a. No, **1_message** can't be a variable since in Python one rule is that variables can't start with a number.*\n",
        "\n"
      ]
    },
    {
      "cell_type": "code",
      "metadata": {
        "colab": {
          "base_uri": "https://localhost:8080/"
        },
        "id": "yFbecATrbCTD",
        "outputId": "ce72f2cb-348b-462d-b469-d6866267af1f"
      },
      "source": [
        "Greeting_message=(\"pa\")\n",
        "print(Greeting_message)"
      ],
      "execution_count": null,
      "outputs": [
        {
          "output_type": "stream",
          "text": [
            "pa\n"
          ],
          "name": "stdout"
        }
      ]
    },
    {
      "cell_type": "markdown",
      "metadata": {
        "id": "VO3uYK-AiU1b"
      },
      "source": [
        "*b. Yes, this variable respects the rules for variables*."
      ]
    },
    {
      "cell_type": "code",
      "metadata": {
        "colab": {
          "base_uri": "https://localhost:8080/"
        },
        "id": "iQKIAMrvdOOu",
        "outputId": "d6f4d3f0-727f-4a3e-f5ab-f6786926e552"
      },
      "source": [
        "Message_1=(\"c\")\n",
        "print(Message_1)"
      ],
      "execution_count": null,
      "outputs": [
        {
          "output_type": "stream",
          "text": [
            "c\n"
          ],
          "name": "stdout"
        }
      ]
    },
    {
      "cell_type": "markdown",
      "metadata": {
        "id": "EHn9G6ckh_GX"
      },
      "source": [
        "*c. Yes, Message_1 respects the rules, is a valid varialble as we can see*."
      ]
    },
    {
      "cell_type": "code",
      "metadata": {
        "colab": {
          "base_uri": "https://localhost:8080/",
          "height": 130
        },
        "id": "oAColzhxhA-q",
        "outputId": "d3ed9e9a-cec7-427a-d990-ed397011c315"
      },
      "source": [
        "First Name= ('Nata')\n",
        "print(First Name)"
      ],
      "execution_count": null,
      "outputs": [
        {
          "output_type": "error",
          "ename": "SyntaxError",
          "evalue": "ignored",
          "traceback": [
            "\u001b[0;36m  File \u001b[0;32m\"<ipython-input-122-f5050c232df1>\"\u001b[0;36m, line \u001b[0;32m1\u001b[0m\n\u001b[0;31m    First Name= ('Nata')\u001b[0m\n\u001b[0m             ^\u001b[0m\n\u001b[0;31mSyntaxError\u001b[0m\u001b[0;31m:\u001b[0m invalid syntax\n"
          ]
        }
      ]
    },
    {
      "cell_type": "markdown",
      "metadata": {
        "id": "Sz9HqPe3g8Av"
      },
      "source": [
        " *d. No, white spaces are not allowed.*"
      ]
    },
    {
      "cell_type": "code",
      "metadata": {
        "colab": {
          "base_uri": "https://localhost:8080/"
        },
        "id": "dvJFssnJg8q8",
        "outputId": "354acaaf-b810-4a1a-a1f9-d77288f23a19"
      },
      "source": [
        "Full_Name=('Natalia')\n",
        "print(Full_Name)"
      ],
      "execution_count": null,
      "outputs": [
        {
          "output_type": "stream",
          "text": [
            "Natalia\n"
          ],
          "name": "stdout"
        }
      ]
    },
    {
      "cell_type": "markdown",
      "metadata": {
        "id": "cNusJ8wah3h0"
      },
      "source": [
        "*e.Yes, this variable respects Python rules.*"
      ]
    },
    {
      "cell_type": "markdown",
      "metadata": {
        "id": "c-cENZPFnHI1"
      },
      "source": [
        "**Q3.**"
      ]
    },
    {
      "cell_type": "code",
      "metadata": {
        "colab": {
          "base_uri": "https://localhost:8080/"
        },
        "id": "42zvRQ8cnNoy",
        "outputId": "e4405145-4337-483c-f198-e9343b784064"
      },
      "source": [
        "hi=('hello there!')\n",
        "print(hi)"
      ],
      "execution_count": null,
      "outputs": [
        {
          "output_type": "stream",
          "text": [
            "hello there!\n"
          ],
          "name": "stdout"
        }
      ]
    },
    {
      "cell_type": "markdown",
      "metadata": {
        "id": "Sa_xWLS8ojLV"
      },
      "source": [
        "**Q4.**"
      ]
    },
    {
      "cell_type": "code",
      "metadata": {
        "colab": {
          "base_uri": "https://localhost:8080/"
        },
        "id": "YTCV27mGov0n",
        "outputId": "77d65f4f-aee8-432a-f550-d4c76aae58d0"
      },
      "source": [
        "first=('firstname')\n",
        "last=('lastname')\n",
        "at=(\"@yahoo.com\")\n",
        "sum=first+last+at\n",
        "print(sum)"
      ],
      "execution_count": null,
      "outputs": [
        {
          "output_type": "stream",
          "text": [
            "firstnamelastname@yahoo.com\n"
          ],
          "name": "stdout"
        }
      ]
    },
    {
      "cell_type": "markdown",
      "metadata": {
        "id": "N_BRzczerlfs"
      },
      "source": [
        "**Q5.**"
      ]
    },
    {
      "cell_type": "code",
      "metadata": {
        "colab": {
          "base_uri": "https://localhost:8080/"
        },
        "id": "dY6XccdDroTA",
        "outputId": "7d44475c-f6fb-4f58-9a8d-db34fb604394"
      },
      "source": [
        "name=(\"Rudy\")\n",
        "print(name.lower())\n",
        "print(name.upper())\n"
      ],
      "execution_count": null,
      "outputs": [
        {
          "output_type": "stream",
          "text": [
            "rudy\n",
            "RUDY\n"
          ],
          "name": "stdout"
        }
      ]
    },
    {
      "cell_type": "markdown",
      "metadata": {
        "id": "JvFbtLLXtJbM"
      },
      "source": [
        "**Q6.**"
      ]
    },
    {
      "cell_type": "code",
      "metadata": {
        "colab": {
          "base_uri": "https://localhost:8080/"
        },
        "id": "NXEld4Z-uiDx",
        "outputId": "6ba7a746-4906-48b7-d210-e48523e58609"
      },
      "source": [
        "date= (\"15\")\n",
        "print(\"Do you want to hang out with me on the \" + date + \"th of this month?\")"
      ],
      "execution_count": null,
      "outputs": [
        {
          "output_type": "stream",
          "text": [
            "Do you want to hang out with me on the 15th of this month?\n"
          ],
          "name": "stdout"
        }
      ]
    },
    {
      "cell_type": "markdown",
      "metadata": {
        "id": "gbN7nOn4xLtS"
      },
      "source": [
        "**Unit2. L3.**"
      ]
    },
    {
      "cell_type": "markdown",
      "metadata": {
        "id": "Kkp_5914zd3-"
      },
      "source": [
        "*Q1- Q5.*  Q2) The difference between sort and sorted function is that sorted will create a new list(without having to replace the original list), while sort will modify the original list, this way replacing the initial one."
      ]
    },
    {
      "cell_type": "code",
      "metadata": {
        "colab": {
          "base_uri": "https://localhost:8080/"
        },
        "id": "raCsaVmKzcJ9",
        "outputId": "d0f820ac-1bb2-40fc-a4f3-4fe1af75dd56"
      },
      "source": [
        "tvshows= ['Law and order', 'American Greed', 'Shark tank', 'Deal or no deal', 'Who wants to be a millionaire']\n",
        "print(tvshows)\n",
        "sorted_= sorted(tvshows)\n",
        "print(\"Sorted list:\",sorted_)\n",
        "\n",
        "print(\"Original list:\", tvshows)\n",
        "\n",
        "desc= sorted(tvshows, reverse=True)\n",
        "\n",
        "print(\"Reverse order:\", desc)\n",
        "\n",
        "print(\"There are\", len(tvshows), \"of my favorite tv shows in this list!\")"
      ],
      "execution_count": null,
      "outputs": [
        {
          "output_type": "stream",
          "text": [
            "['Law and order', 'American Greed', 'Shark tank', 'Deal or no deal', 'Who wants to be a millionaire']\n",
            "Sorted list: ['American Greed', 'Deal or no deal', 'Law and order', 'Shark tank', 'Who wants to be a millionaire']\n",
            "Original list: ['Law and order', 'American Greed', 'Shark tank', 'Deal or no deal', 'Who wants to be a millionaire']\n",
            "Reverse order: ['Who wants to be a millionaire', 'Shark tank', 'Law and order', 'Deal or no deal', 'American Greed']\n",
            "There are 5 of my favorite tv shows in this list!\n"
          ],
          "name": "stdout"
        }
      ]
    },
    {
      "cell_type": "markdown",
      "metadata": {
        "id": "g3IomVBGFUZa"
      },
      "source": [
        "**Unit2. L4**"
      ]
    },
    {
      "cell_type": "markdown",
      "metadata": {
        "id": "U_dV_sxIN6-b"
      },
      "source": [
        "Q1-Q3"
      ]
    },
    {
      "cell_type": "code",
      "metadata": {
        "colab": {
          "base_uri": "https://localhost:8080/"
        },
        "id": "8L_YNX5wGNTl",
        "outputId": "b29d213f-5515-419d-9979-d88c053c5e6d"
      },
      "source": [
        "mylist=['mother','father','brother','sister','grandmother']\n",
        "for m in mylist:\n",
        "  print(m)\n",
        "  print(m.title()+ \" is one of the closest person to me.\")\n",
        "\n"
      ],
      "execution_count": null,
      "outputs": [
        {
          "output_type": "stream",
          "text": [
            "mother\n",
            "Mother is one of the closest person to me.\n",
            "father\n",
            "Father is one of the closest person to me.\n",
            "brother\n",
            "Brother is one of the closest person to me.\n",
            "sister\n",
            "Sister is one of the closest person to me.\n",
            "grandmother\n",
            "Grandmother is one of the closest person to me.\n"
          ],
          "name": "stdout"
        }
      ]
    },
    {
      "cell_type": "markdown",
      "metadata": {
        "id": "amf6ocz7Gbep"
      },
      "source": [
        "Q4. Even numbers"
      ]
    },
    {
      "cell_type": "code",
      "metadata": {
        "colab": {
          "base_uri": "https://localhost:8080/"
        },
        "id": "exoAkXVIPfCK",
        "outputId": "b57b4db6-e5bf-41c9-e872-77f9c8ac785c"
      },
      "source": [
        "for i in range(1,21):\n",
        "  if(i%2)==0:\n",
        "   print(i)"
      ],
      "execution_count": null,
      "outputs": [
        {
          "output_type": "stream",
          "text": [
            "2\n",
            "4\n",
            "6\n",
            "8\n",
            "10\n",
            "12\n",
            "14\n",
            "16\n",
            "18\n",
            "20\n"
          ],
          "name": "stdout"
        }
      ]
    },
    {
      "cell_type": "markdown",
      "metadata": {
        "id": "5kpaP6a7QnEB"
      },
      "source": [
        "Q5. Alphabetic order"
      ]
    },
    {
      "cell_type": "code",
      "metadata": {
        "colab": {
          "base_uri": "https://localhost:8080/"
        },
        "id": "sdfuR33HQMn-",
        "outputId": "3bc866c8-c019-4393-b654-c3a9f1953f02"
      },
      "source": [
        "sorted(mylist)"
      ],
      "execution_count": null,
      "outputs": [
        {
          "output_type": "execute_result",
          "data": {
            "text/plain": [
              "['brother', 'father', 'grandmother', 'mother', 'sister']"
            ]
          },
          "metadata": {
            "tags": []
          },
          "execution_count": 168
        }
      ]
    },
    {
      "cell_type": "markdown",
      "metadata": {
        "id": "3swxOjFFRCkB"
      },
      "source": [
        "Q6 - Q7.  First 3 & last 2 elements"
      ]
    },
    {
      "cell_type": "code",
      "metadata": {
        "colab": {
          "base_uri": "https://localhost:8080/"
        },
        "id": "fEKKTr8XQ4qq",
        "outputId": "3ca4d96f-072e-40b6-a0b7-890272012051"
      },
      "source": [
        "print(mylist[0:3])\n",
        "print(mylist[-2:])"
      ],
      "execution_count": null,
      "outputs": [
        {
          "output_type": "stream",
          "text": [
            "['mother', 'father', 'brother']\n",
            "['sister', 'grandmother']\n"
          ],
          "name": "stdout"
        }
      ]
    },
    {
      "cell_type": "markdown",
      "metadata": {
        "id": "88t9vKUEixHo"
      },
      "source": [
        "**Unit2. L5**"
      ]
    },
    {
      "cell_type": "markdown",
      "metadata": {
        "id": "PH9GU8SOHV_b"
      },
      "source": [
        "Q1."
      ]
    },
    {
      "cell_type": "code",
      "metadata": {
        "colab": {
          "base_uri": "https://localhost:8080/"
        },
        "id": "j6cZK6iiIvo_",
        "outputId": "265c5180-e8c3-4203-b2d4-f54735ea88a8"
      },
      "source": [
        "usernames=['nataru','nancy','taby', 'admin', 'younot','lilly']\n",
        "important_user=\"admin\"\n",
        "if important_user in usernames:\n",
        "  print('Hello admin! Sending you warm greetings!!!')\n",
        "else:\n",
        "  print(\"Hey there!\")"
      ],
      "execution_count": null,
      "outputs": [
        {
          "output_type": "stream",
          "text": [
            "Hello admin! Sending you warm greetings!!!\n"
          ],
          "name": "stdout"
        }
      ]
    },
    {
      "cell_type": "markdown",
      "metadata": {
        "id": "4hPcEA6otx5m"
      },
      "source": [
        "Q2."
      ]
    },
    {
      "cell_type": "code",
      "metadata": {
        "id": "lvzqDoUKaF7j",
        "colab": {
          "base_uri": "https://localhost:8080/"
        },
        "outputId": "83c6d5b2-a9b7-4593-d2a2-e1ad7da36ca7"
      },
      "source": [
        "ordinals=[1,2,3,4,5,6,7,8,9,10]\n",
        "for x in ordinals:\n",
        " if x==1:\n",
        "  print(str(x) +\"st\") \n",
        " elif x==2:\n",
        "  print(str(x) + \"nd\")\n",
        " elif x==3:\n",
        "  print(str(x)+\"rd\")  \n",
        " else:\n",
        "  print(str(x)+\"th\")   \n",
        "   "
      ],
      "execution_count": null,
      "outputs": [
        {
          "output_type": "stream",
          "text": [
            "1st\n",
            "2nd\n",
            "3rd\n",
            "4th\n",
            "5th\n",
            "6th\n",
            "7th\n",
            "8th\n",
            "9th\n",
            "10th\n"
          ],
          "name": "stdout"
        }
      ]
    },
    {
      "cell_type": "markdown",
      "metadata": {
        "id": "IEWqn6fdt21a"
      },
      "source": [
        "**Unit2\n",
        ".L6.**\n",
        "\n",
        "Q1- Q3\n"
      ]
    },
    {
      "cell_type": "code",
      "metadata": {
        "colab": {
          "base_uri": "https://localhost:8080/"
        },
        "id": "jUXLfiNEu_XU",
        "outputId": "4a4f2e4e-bd05-40dc-b193-deae8b373e69"
      },
      "source": [
        "firstdict={\"first_name\":\"Natalia\", \"last_name\":\"Russu\"}\n",
        "print(firstdict[\"first_name\"])\n",
        "print(firstdict[\"last_name\"])\n",
        "print(\"Hello, \"+ firstdict['first_name'] +\" \"+ firstdict[\"last_name\"]+'!')\n"
      ],
      "execution_count": null,
      "outputs": [
        {
          "output_type": "stream",
          "text": [
            "Natalia\n",
            "Russu\n",
            "Hello, Natalia Russu!\n"
          ],
          "name": "stdout"
        }
      ]
    },
    {
      "cell_type": "markdown",
      "metadata": {
        "id": "p97dWfBz4unx"
      },
      "source": [
        "Q4. a)"
      ]
    },
    {
      "cell_type": "code",
      "metadata": {
        "colab": {
          "base_uri": "https://localhost:8080/"
        },
        "id": "xFmMyJlZrbRw",
        "outputId": "8694d524-dde3-46eb-fcc0-457ae29dc8fe"
      },
      "source": [
        "k2keys={\"city:\":\"Albany\", \"state:\":\"New York\"}\n",
        "\n",
        "for firstkey,value in k2keys.items():\n",
        "  print(firstkey,value)"
      ],
      "execution_count": null,
      "outputs": [
        {
          "output_type": "stream",
          "text": [
            "city: Albany\n",
            "state: New York\n"
          ],
          "name": "stdout"
        }
      ]
    },
    {
      "cell_type": "markdown",
      "metadata": {
        "id": "XOIWJnIsuf8S"
      },
      "source": [
        "Q5. a)"
      ]
    },
    {
      "cell_type": "code",
      "metadata": {
        "colab": {
          "base_uri": "https://localhost:8080/"
        },
        "id": "qQA1D5lWvbA2",
        "outputId": "b9098f30-b70d-4e9e-8323-c366e97d5e8b"
      },
      "source": [
        "nestdict={\"drinks\":{'water':\"healthiest\",\"wine\":\"less_healthy\"},\"food\":{\"favorite_type\":\"italian\",\"less_favorite\":\"chinese\"},\"travel_locations\":{\"in_usa\":\"Florida\",\"in_europe\":\"Montenegro\",\"in_africa\":\"South_Africa\"}}\n",
        "for i in nestdict:\n",
        "  for n in nestdict[i]:\n",
        "   print(\"Here is a small info from my jurnal, as I see it:\" +\"\"+ n,\"-\",nestdict[i][n])"
      ],
      "execution_count": null,
      "outputs": [
        {
          "output_type": "stream",
          "text": [
            "Here is a small info from my jurnal, as I see it:water - healthiest\n",
            "Here is a small info from my jurnal, as I see it:wine - less_healthy\n",
            "Here is a small info from my jurnal, as I see it:favorite_type - italian\n",
            "Here is a small info from my jurnal, as I see it:less_favorite - chinese\n",
            "Here is a small info from my jurnal, as I see it:in_usa - Florida\n",
            "Here is a small info from my jurnal, as I see it:in_europe - Montenegro\n",
            "Here is a small info from my jurnal, as I see it:in_africa - South_Africa\n"
          ],
          "name": "stdout"
        }
      ]
    },
    {
      "cell_type": "markdown",
      "metadata": {
        "id": "dUhdfHFS2JGZ"
      },
      "source": [
        "#Python Project. Game ****"
      ]
    },
    {
      "cell_type": "code",
      "metadata": {
        "id": "bbeFpKw22Zwf"
      },
      "source": [
        "player_is_winning = 0\n",
        "comp_is_winning = 0\n",
        "\n",
        "def user_options():\n",
        " user_choice = input(\"Pick your choice of rock, paper or scissors:\")\n",
        " if user_choice in [\"Rock\",\"rock\",'r','R']:\n",
        "   user_choice=\"r\"\n",
        " elif user_choice in [\"Paper\",\"P\",\"p\",\"paper\"]:\n",
        "   user_choice=\"p\"\n",
        " elif user_choice in ['Scissors','scissors',\"s\",\"S\"]:\n",
        "   user_choice=\"s\"\n",
        " else:\n",
        "   print('Error!Try Again!')\n",
        "   user_options()\n",
        " return user_choice\n",
        "\n",
        "\n",
        "def comp_options():\n",
        "  import random\n",
        "  comp_choice= random.randint(1,3)\n",
        "  if comp_choice==1:\n",
        "    comp_choice=\"r\"\n",
        "  elif comp_choice==2:\n",
        "    comp_choice==\"p\"\n",
        "  else:\n",
        "    comp_choice='s' \n",
        "  return comp_choice  \n",
        " \n",
        "while True:\n",
        "  print(\"\")\n",
        "  user_choice= user_options()\n",
        "  comp_choice = comp_options()\n",
        "  print(\"\")\n",
        "\n",
        "  if user_choice==\"r\":\n",
        "    if comp_choice==\"r\":\n",
        "      print(\"Both users chose rock. It's a TIE.\")\n",
        "    elif comp_choice==\"p\":\n",
        "      print(\"You have rock. Paper smashes rock! You lose!\")\n",
        "      comp_is_winning += 1\n",
        "\n",
        "    elif comp_choice==\"s\":\n",
        "      print(\"You have rock. Rock smashes scissors. You win!!!\")\n",
        "      player_is_winning += 1\n",
        "\n",
        "  elif user_choice==\"p\":\n",
        "    if comp_choice==\"r\":\n",
        "      print(\"You have paper. Paper beats rock. You win!!!\")   \n",
        "      player_is_winning += 1\n",
        "\n",
        "    elif comp_choice==\"p\":\n",
        "      print(\"Both users have paper. It's a TIE.\")   \n",
        "\n",
        "    elif comp_choice==\"s\":\n",
        "     print(\"You have paper. Scissors beat paper. You lose!\")\n",
        "     comp_is_winning += 1\n",
        "\n",
        "    elif user_choice ==\"s\":\n",
        "     if comp_choice==\"r\":\n",
        "       print('You have scissors.Rock beats scissors. You lose!' )\n",
        "       comp_is_winning += 1\n",
        "\n",
        "    elif comp_choice==\"p\":\n",
        "     print(\"You have scissors. Scissors cuts paper. You win!!!\")    \n",
        "     player_is_winning += 1\n",
        "\n",
        "    elif comp_choice==\"s\":\n",
        "     print(\"You  both have scissors. Its a TIE.\")\n",
        "\n",
        "     print(\"\")\n",
        "     print(\"player_is_winning:\" + str(player_is_winning))\n",
        "     print(\"comp_is_winning:\"+str(comp_is_winning))\n",
        "     print(\"\")\n",
        "\n",
        "     user_options= input(\"Play again?(y/n)\")\n",
        "     if user_options in [\"Y\",\"y\",\"yes\",\"Yes\"]:\n",
        "       pass\n",
        "     elif user_options in [\"n\",\"N\",\"No\",\"no\"]:\n",
        "       break\n",
        "     else:\n",
        "       break  \n",
        "\n",
        "\n",
        "\n",
        "   \n",
        " \n"
      ],
      "execution_count": null,
      "outputs": []
    },
    {
      "cell_type": "markdown",
      "metadata": {
        "id": "-Q8wTfG9WW7_"
      },
      "source": [
        "## Python Project. Odd or Even numbers.\n",
        "\n",
        "\n",
        "\n"
      ]
    },
    {
      "cell_type": "code",
      "metadata": {
        "id": "YMH8W7bcXlwZ"
      },
      "source": [
        "n=int(input(\"Type a number:\"))\n",
        "\n",
        "if (n%2==0):\n",
        "  print(n, \"is an even number\")\n",
        "else:\n",
        "  print(n, \"is an odd number\")  \n",
        "if (n%4==0):\n",
        "  print(n, \"is a multiple of 4\")  \n",
        "else:\n",
        "  print(n, \"is not a multiple of 4\")  \n",
        "\n",
        "num,check= map(int, input(\"Write two numbers, without using any punctuation (just space):\").split())\n",
        "if (num%check==0):\n",
        "  print(num, \"is divisible by\", check)\n",
        "else:\n",
        "  print(num, \"is not divisible by\", check)\n"
      ],
      "execution_count": null,
      "outputs": []
    }
  ]
}